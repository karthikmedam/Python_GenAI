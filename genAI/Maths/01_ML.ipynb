{
 "cells": [
  {
   "cell_type": "code",
   "execution_count": null,
   "metadata": {
    "vscode": {
     "languageId": "plaintext"
    }
   },
   "outputs": [],
   "source": [
    "### Maths for ML and AI\n",
    "\n",
    "Which is playing major role in the market?\n",
    "Data -> Bigdata -> Maths -> ML -> DL -> NLP -> Transformers -> AI\n",
    "\n",
    "Overview:\n",
    "Welcome to the world of AI, This workshop structure balances theory with practical coding excercises, ensuring that participants not only understand\n",
    "maths, but also gain hands-on experience implementing them in machine learning models. No Maths no ML.\n",
    "\n",
    "Coding:\n",
    "We have lot of coding tools available in market, things comes and go, but Python is standing No 1 till today.\n",
    "Python=1\n",
    "Julia\n",
    "GO\n",
    "Java\n",
    "JavaScript\n",
    "C++\n",
    "Ruby\n",
    "Perl\n",
    "R Language\n",
    "SAS\n",
    "\n",
    "Day1:\n",
    "What we will learn?\n",
    "1. Introduction to ML and its mathamatical Foundations\n",
    "Introduction to ML:\n",
    "ML is a subset of AI that enables systems to learn from data and improve their performance over time without being explicitly programmed. The main\n",
    "goal is to develop algorithms that allow computers to identify patterns in data and make predictions or decisions based on it.\n",
    "\n",
    "Types of ML:\n",
    "mathematical Foundations of ML:\n",
    "1. Linear Algebra\n",
    "2. Probability and Statistics\n",
    "3. Calculas\n",
    "\n",
    "2. Why is mathematics Essential for ML?\n",
    "Mathematics is Essential for ML for several reasons. Machine learning algorithms are based on Maths principles, and having a solid foundation in \n",
    "mathematics enables a deeper undestanding of how these algorithms work, how to optimize them, and how to interpret their results effectively.\n",
    "Below are the key reasons why Maths is critical in ML.\n",
    "\n",
    "ML - models\n",
    "Supervised ML -> Regression(continous), there are some kind of maths available \n",
    "Un-Supervised ML -> Some kind of maths available \n",
    "More maths needs:?\n",
    "Statistics -> 60% - will have great future\n",
    "Probability -> 20%\n",
    "Linear Algebra -> 15% \n",
    "Calculations -> 5%\n",
    "\n",
    "1a. Understanding algorithms\n",
    "Linear Algebra: Essential for understanding how data is representend(as vectors and matrices)\n",
    "Calculus: Critical for understanding optimization algorithms, particularly gradient-based\n",
    "\n"
   ]
  },
  {
   "cell_type": "code",
   "execution_count": null,
   "metadata": {
    "vscode": {
     "languageId": "plaintext"
    }
   },
   "outputs": [],
   "source": []
  }
 ],
 "metadata": {
  "language_info": {
   "name": "python"
  }
 },
 "nbformat": 4,
 "nbformat_minor": 2
}
